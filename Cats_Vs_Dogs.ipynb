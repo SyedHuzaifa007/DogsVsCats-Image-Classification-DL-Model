{
  "nbformat": 4,
  "nbformat_minor": 0,
  "metadata": {
    "colab": {
      "name": "Cats_Vs_Dogs.ipynb",
      "provenance": [],
      "mount_file_id": "1S0FOsbCg2u8QeiQpjAhOYO6pe1RFA7W4",
      "authorship_tag": "ABX9TyNVVKIDVHSQS7fkXdPIChEP",
      "include_colab_link": true
    },
    "kernelspec": {
      "name": "python3",
      "display_name": "Python 3"
    },
    "language_info": {
      "name": "python"
    },
    "accelerator": "GPU"
  },
  "cells": [
    {
      "cell_type": "markdown",
      "metadata": {
        "id": "view-in-github",
        "colab_type": "text"
      },
      "source": [
        "<a href=\"https://colab.research.google.com/github/SyedHuzaifa007/DogsVsCats-Image-Classification-DL-Model/blob/main/Cats_Vs_Dogs.ipynb\" target=\"_parent\"><img src=\"https://colab.research.google.com/assets/colab-badge.svg\" alt=\"Open In Colab\"/></a>"
      ]
    },
    {
      "cell_type": "code",
      "metadata": {
        "id": "nx8eJwrneBya"
      },
      "source": [
        "# Importing Modules\n",
        "from keras import layers\n",
        "from keras import models"
      ],
      "execution_count": 1,
      "outputs": []
    },
    {
      "cell_type": "code",
      "metadata": {
        "id": "cmtDT5DD3H2F"
      },
      "source": [
        "# Defining Model\n",
        "model = models.Sequential()\n",
        "model.add(layers.Conv2D(32, (3, 3), activation='relu',\n",
        "input_shape=(150, 150, 3)))\n",
        "model.add(layers.MaxPooling2D((2, 2)))\n",
        "model.add(layers.Conv2D(64, (3, 3), activation='relu'))\n",
        "model.add(layers.MaxPooling2D((2, 2)))\n",
        "model.add(layers.Conv2D(128, (3, 3), activation='relu'))\n",
        "model.add(layers.MaxPooling2D((2, 2)))\n",
        "model.add(layers.Conv2D(128, (3, 3), activation='relu'))\n",
        "model.add(layers.MaxPooling2D((2, 2)))\n",
        "model.add(layers.Flatten())\n",
        "model.add(layers.Dense(512, activation='relu'))\n",
        "model.add(layers.Dense(1, activation='sigmoid'))"
      ],
      "execution_count": 2,
      "outputs": []
    },
    {
      "cell_type": "code",
      "metadata": {
        "id": "nSs47GLz3z1S",
        "colab": {
          "base_uri": "https://localhost:8080/"
        },
        "outputId": "7f155e1a-278a-4d60-8bb3-490fd79869db"
      },
      "source": [
        "# Making A Summary\n",
        "model.summary()"
      ],
      "execution_count": 3,
      "outputs": [
        {
          "output_type": "stream",
          "text": [
            "Model: \"sequential\"\n",
            "_________________________________________________________________\n",
            "Layer (type)                 Output Shape              Param #   \n",
            "=================================================================\n",
            "conv2d (Conv2D)              (None, 148, 148, 32)      896       \n",
            "_________________________________________________________________\n",
            "max_pooling2d (MaxPooling2D) (None, 74, 74, 32)        0         \n",
            "_________________________________________________________________\n",
            "conv2d_1 (Conv2D)            (None, 72, 72, 64)        18496     \n",
            "_________________________________________________________________\n",
            "max_pooling2d_1 (MaxPooling2 (None, 36, 36, 64)        0         \n",
            "_________________________________________________________________\n",
            "conv2d_2 (Conv2D)            (None, 34, 34, 128)       73856     \n",
            "_________________________________________________________________\n",
            "max_pooling2d_2 (MaxPooling2 (None, 17, 17, 128)       0         \n",
            "_________________________________________________________________\n",
            "conv2d_3 (Conv2D)            (None, 15, 15, 128)       147584    \n",
            "_________________________________________________________________\n",
            "max_pooling2d_3 (MaxPooling2 (None, 7, 7, 128)         0         \n",
            "_________________________________________________________________\n",
            "flatten (Flatten)            (None, 6272)              0         \n",
            "_________________________________________________________________\n",
            "dense (Dense)                (None, 512)               3211776   \n",
            "_________________________________________________________________\n",
            "dense_1 (Dense)              (None, 1)                 513       \n",
            "=================================================================\n",
            "Total params: 3,453,121\n",
            "Trainable params: 3,453,121\n",
            "Non-trainable params: 0\n",
            "_________________________________________________________________\n"
          ],
          "name": "stdout"
        }
      ]
    },
    {
      "cell_type": "code",
      "metadata": {
        "id": "N3MhozNeBpJk"
      },
      "source": [
        "from keras import optimizers\n",
        "model.compile(loss='binary_crossentropy',\n",
        "optimizer=optimizers.RMSprop(learning_rate=1e-4),\n",
        "metrics=['acc'])"
      ],
      "execution_count": 4,
      "outputs": []
    },
    {
      "cell_type": "code",
      "metadata": {
        "id": "fwrsXARPNwOB"
      },
      "source": [
        "train_dir = \"/content/drive/MyDrive/Datasets/cats_and_dogs_small/train\"\n",
        "validation_dir = \"/content/drive/MyDrive/Datasets/cats_and_dogs_small/validation\"\n",
        "test_dir = \"/content/drive/MyDrive/Datasets/cats_and_dogs_small/test\""
      ],
      "execution_count": 5,
      "outputs": []
    },
    {
      "cell_type": "code",
      "metadata": {
        "colab": {
          "base_uri": "https://localhost:8080/"
        },
        "id": "nMqHfWfQMNUv",
        "outputId": "69b09564-b60f-4320-f512-907fadffa15e"
      },
      "source": [
        "from keras.preprocessing.image import ImageDataGenerator\n",
        "train_datagen = ImageDataGenerator(rescale=1./255)\n",
        "test_datagen = ImageDataGenerator(rescale=1./255)\n",
        "train_generator = train_datagen.flow_from_directory(train_dir, target_size=(150, 150), batch_size=20, class_mode='binary')"
      ],
      "execution_count": 6,
      "outputs": [
        {
          "output_type": "stream",
          "text": [
            "Found 2000 images belonging to 2 classes.\n"
          ],
          "name": "stdout"
        }
      ]
    },
    {
      "cell_type": "code",
      "metadata": {
        "colab": {
          "base_uri": "https://localhost:8080/"
        },
        "id": "LP8imU5lMRpY",
        "outputId": "999fb598-f86d-4b47-c7e5-fb50e93a39dd"
      },
      "source": [
        "validation_generator = test_datagen.flow_from_directory(validation_dir, target_size=(150, 150), batch_size=20, class_mode='binary')"
      ],
      "execution_count": 7,
      "outputs": [
        {
          "output_type": "stream",
          "text": [
            "Found 1000 images belonging to 2 classes.\n"
          ],
          "name": "stdout"
        }
      ]
    },
    {
      "cell_type": "code",
      "metadata": {
        "colab": {
          "base_uri": "https://localhost:8080/"
        },
        "id": "fhsQb74HO34h",
        "outputId": "30c67ca0-eb03-47f0-c13e-6c99ccd28d88"
      },
      "source": [
        "for data_batch, labels_batch in train_generator:\n",
        "  print('data batch shape:', data_batch.shape)\n",
        "  print('labels batch shape:', labels_batch.shape)\n",
        "  break"
      ],
      "execution_count": 8,
      "outputs": [
        {
          "output_type": "stream",
          "text": [
            "data batch shape: (20, 150, 150, 3)\n",
            "labels batch shape: (20,)\n"
          ],
          "name": "stdout"
        }
      ]
    },
    {
      "cell_type": "code",
      "metadata": {
        "colab": {
          "base_uri": "https://localhost:8080/"
        },
        "id": "XBh3cwCUPBAF",
        "outputId": "31b8dfe1-c883-4b1b-9af4-ad5c189a8a2f"
      },
      "source": [
        "history = model.fit_generator(train_generator, steps_per_epoch=100, epochs=30, validation_data=validation_generator, validation_steps=50)"
      ],
      "execution_count": 9,
      "outputs": [
        {
          "output_type": "stream",
          "text": [
            "/usr/local/lib/python3.7/dist-packages/keras/engine/training.py:1915: UserWarning: `Model.fit_generator` is deprecated and will be removed in a future version. Please use `Model.fit`, which supports generators.\n",
            "  warnings.warn('`Model.fit_generator` is deprecated and '\n"
          ],
          "name": "stderr"
        },
        {
          "output_type": "stream",
          "text": [
            "Epoch 1/30\n",
            "100/100 [==============================] - 881s 8s/step - loss: 0.6936 - acc: 0.5151 - val_loss: 0.6732 - val_acc: 0.5730\n",
            "Epoch 2/30\n",
            "100/100 [==============================] - 11s 114ms/step - loss: 0.6463 - acc: 0.6484 - val_loss: 0.6417 - val_acc: 0.6360\n",
            "Epoch 3/30\n",
            "100/100 [==============================] - 12s 119ms/step - loss: 0.6071 - acc: 0.6729 - val_loss: 0.6090 - val_acc: 0.6640\n",
            "Epoch 4/30\n",
            "100/100 [==============================] - 12s 123ms/step - loss: 0.5512 - acc: 0.7227 - val_loss: 0.5911 - val_acc: 0.6780\n",
            "Epoch 5/30\n",
            "100/100 [==============================] - 12s 120ms/step - loss: 0.5291 - acc: 0.7342 - val_loss: 0.6976 - val_acc: 0.6050\n",
            "Epoch 6/30\n",
            "100/100 [==============================] - 11s 114ms/step - loss: 0.5044 - acc: 0.7525 - val_loss: 0.6008 - val_acc: 0.6860\n",
            "Epoch 7/30\n",
            "100/100 [==============================] - 11s 114ms/step - loss: 0.4694 - acc: 0.7743 - val_loss: 0.5920 - val_acc: 0.6860\n",
            "Epoch 8/30\n",
            "100/100 [==============================] - 11s 115ms/step - loss: 0.4348 - acc: 0.8056 - val_loss: 0.5731 - val_acc: 0.7150\n",
            "Epoch 9/30\n",
            "100/100 [==============================] - 12s 121ms/step - loss: 0.4096 - acc: 0.8100 - val_loss: 0.6391 - val_acc: 0.6880\n",
            "Epoch 10/30\n",
            "100/100 [==============================] - 12s 122ms/step - loss: 0.3816 - acc: 0.8358 - val_loss: 0.5672 - val_acc: 0.7180\n",
            "Epoch 11/30\n",
            "100/100 [==============================] - 11s 115ms/step - loss: 0.3742 - acc: 0.8388 - val_loss: 0.5508 - val_acc: 0.7310\n",
            "Epoch 12/30\n",
            "100/100 [==============================] - 11s 114ms/step - loss: 0.3428 - acc: 0.8484 - val_loss: 0.5800 - val_acc: 0.7270\n",
            "Epoch 13/30\n",
            "100/100 [==============================] - 11s 114ms/step - loss: 0.3286 - acc: 0.8582 - val_loss: 0.5801 - val_acc: 0.7170\n",
            "Epoch 14/30\n",
            "100/100 [==============================] - 12s 116ms/step - loss: 0.2983 - acc: 0.8750 - val_loss: 0.5650 - val_acc: 0.7410\n",
            "Epoch 15/30\n",
            "100/100 [==============================] - 12s 122ms/step - loss: 0.2634 - acc: 0.8862 - val_loss: 0.6357 - val_acc: 0.7310\n",
            "Epoch 16/30\n",
            "100/100 [==============================] - 12s 122ms/step - loss: 0.2646 - acc: 0.9073 - val_loss: 0.6167 - val_acc: 0.7300\n",
            "Epoch 17/30\n",
            "100/100 [==============================] - 12s 116ms/step - loss: 0.2251 - acc: 0.9139 - val_loss: 0.6302 - val_acc: 0.7350\n",
            "Epoch 18/30\n",
            "100/100 [==============================] - 11s 114ms/step - loss: 0.1929 - acc: 0.9324 - val_loss: 0.7087 - val_acc: 0.7250\n",
            "Epoch 19/30\n",
            "100/100 [==============================] - 11s 114ms/step - loss: 0.1942 - acc: 0.9338 - val_loss: 0.6642 - val_acc: 0.7470\n",
            "Epoch 20/30\n",
            "100/100 [==============================] - 12s 123ms/step - loss: 0.1601 - acc: 0.9453 - val_loss: 0.8375 - val_acc: 0.6970\n",
            "Epoch 21/30\n",
            "100/100 [==============================] - 12s 120ms/step - loss: 0.1475 - acc: 0.9523 - val_loss: 0.6801 - val_acc: 0.7340\n",
            "Epoch 22/30\n",
            "100/100 [==============================] - 11s 115ms/step - loss: 0.1296 - acc: 0.9602 - val_loss: 0.6771 - val_acc: 0.7410\n",
            "Epoch 23/30\n",
            "100/100 [==============================] - 11s 114ms/step - loss: 0.1216 - acc: 0.9652 - val_loss: 0.7502 - val_acc: 0.7410\n",
            "Epoch 24/30\n",
            "100/100 [==============================] - 11s 113ms/step - loss: 0.0977 - acc: 0.9709 - val_loss: 0.7058 - val_acc: 0.7520\n",
            "Epoch 25/30\n",
            "100/100 [==============================] - 12s 119ms/step - loss: 0.0767 - acc: 0.9790 - val_loss: 0.8064 - val_acc: 0.7220\n",
            "Epoch 26/30\n",
            "100/100 [==============================] - 12s 121ms/step - loss: 0.0657 - acc: 0.9849 - val_loss: 0.8326 - val_acc: 0.7360\n",
            "Epoch 27/30\n",
            "100/100 [==============================] - 12s 117ms/step - loss: 0.0606 - acc: 0.9830 - val_loss: 0.8333 - val_acc: 0.7360\n",
            "Epoch 28/30\n",
            "100/100 [==============================] - 12s 122ms/step - loss: 0.0547 - acc: 0.9902 - val_loss: 1.0125 - val_acc: 0.7410\n",
            "Epoch 29/30\n",
            "100/100 [==============================] - 12s 122ms/step - loss: 0.0426 - acc: 0.9909 - val_loss: 0.9691 - val_acc: 0.7300\n",
            "Epoch 30/30\n",
            "100/100 [==============================] - 11s 115ms/step - loss: 0.0353 - acc: 0.9937 - val_loss: 1.2748 - val_acc: 0.6960\n"
          ],
          "name": "stdout"
        }
      ]
    }
  ]
}